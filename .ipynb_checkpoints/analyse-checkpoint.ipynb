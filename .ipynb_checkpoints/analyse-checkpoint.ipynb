{
 "cells": [
  {
   "cell_type": "code",
   "execution_count": 23,
   "metadata": {},
   "outputs": [],
   "source": [
    "import numpy as np"
   ]
  },
  {
   "cell_type": "code",
   "execution_count": 48,
   "metadata": {},
   "outputs": [
    {
     "data": {
      "text/plain": [
       "array([[  10,    2],\n",
       "       [  10,    4],\n",
       "       [  10,    6],\n",
       "       [  10,    8],\n",
       "       [  10,   10],\n",
       "       [  20,    4],\n",
       "       [  20,    8],\n",
       "       [  20,   12],\n",
       "       [  20,   16],\n",
       "       [  20,   20],\n",
       "       [  50,   10],\n",
       "       [  50,   20],\n",
       "       [  50,   30],\n",
       "       [  50,   40],\n",
       "       [  50,   50],\n",
       "       [  75,    5],\n",
       "       [  75,   10],\n",
       "       [  75,   25],\n",
       "       [  75,   50],\n",
       "       [  75,   75],\n",
       "       [ 100,    2],\n",
       "       [ 100,    5],\n",
       "       [ 100,   10],\n",
       "       [ 100,   50],\n",
       "       [ 100,  100],\n",
       "       [ 200,    2],\n",
       "       [ 200,    5],\n",
       "       [ 200,   10],\n",
       "       [ 200,   50],\n",
       "       [ 200,  100],\n",
       "       [ 500,    5],\n",
       "       [ 500,   10],\n",
       "       [ 500,   50],\n",
       "       [ 500,  100],\n",
       "       [ 500,  200],\n",
       "       [1000,   10],\n",
       "       [1000,   25],\n",
       "       [1000,   50],\n",
       "       [1000,  100],\n",
       "       [1000,  250],\n",
       "       [2000,   10],\n",
       "       [2000,   25],\n",
       "       [2000,   50],\n",
       "       [2000,  100],\n",
       "       [2000,  250],\n",
       "       [5000,   10],\n",
       "       [5000,   50],\n",
       "       [5000,  100],\n",
       "       [5000,  200],\n",
       "       [5000, 1000]])"
      ]
     },
     "execution_count": 48,
     "metadata": {},
     "output_type": "execute_result"
    }
   ],
   "source": [
    "inst = np.genfromtxt(\"doc/instances.txt\",dtype = int)\n",
    "inst"
   ]
  },
  {
   "cell_type": "code",
   "execution_count": null,
   "metadata": {},
   "outputs": [],
   "source": []
  },
  {
   "cell_type": "code",
   "execution_count": 38,
   "metadata": {},
   "outputs": [],
   "source": [
    "np.savetxt(\"res1.csv\",inst[0],delimiter=\",\",fmt=\"%d\")"
   ]
  },
  {
   "cell_type": "code",
   "execution_count": 39,
   "metadata": {},
   "outputs": [],
   "source": [
    "res = np.array([1,0,1,0,1,1,1,0,3],dtype=int)\n",
    "np.savetxt(\"res1.csv\",res,delimiter=\",\",fmt=\"%d\")"
   ]
  },
  {
   "cell_type": "code",
   "execution_count": 43,
   "metadata": {},
   "outputs": [],
   "source": [
    "with open('res2.csv','w') as fic :\n",
    "    np.savetxt(fic,[2,5],delimiter=\",\",fmt=\"%d\")\n",
    "    np.savetxt(fic,res,delimiter=\",\",fmt=\"%d\")\n",
    "    "
   ]
  },
  {
   "cell_type": "code",
   "execution_count": 47,
   "metadata": {},
   "outputs": [],
   "source": [
    "with open(\"res3.csv\",\"w\") as fic:\n",
    "    fic.write(\"\\n\".join(\",\".join(map(str, x)) for x in ([2,5],[1,0,1])))"
   ]
  },
  {
   "cell_type": "code",
   "execution_count": null,
   "metadata": {},
   "outputs": [],
   "source": []
  }
 ],
 "metadata": {
  "kernelspec": {
   "display_name": "Python 3",
   "language": "python",
   "name": "python3"
  },
  "language_info": {
   "codemirror_mode": {
    "name": "ipython",
    "version": 3
   },
   "file_extension": ".py",
   "mimetype": "text/x-python",
   "name": "python",
   "nbconvert_exporter": "python",
   "pygments_lexer": "ipython3",
   "version": "3.7.6"
  }
 },
 "nbformat": 4,
 "nbformat_minor": 4
}
